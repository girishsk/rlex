{
 "cells": [
  {
   "cell_type": "code",
   "execution_count": 15,
   "metadata": {
    "collapsed": false
   },
   "outputs": [],
   "source": [
    "import numpy as np\n",
    "import random\n",
    "import tensorflow as tf\n",
    "import time\n",
    "import os\n",
    "import logging\n",
    "import prettytensor as pt\n",
    "import tempfile\n",
    "import sys\n",
    "\n",
    "class ReinfoceAgent(object):\n",
    "\n",
    "    def __init__(self, env):\n",
    "        self.session = tf.Session()\n",
    "        total_weights = env.observation_space.shape[0] + env.action_space.n\n",
    "        self.env = env\n",
    "        self.x = tf.placeholder(\"float\")\n",
    "        self.y = tf.placeholder(\"float\")\n",
    "        #weight vector\n",
    "        self.w = tf.Variable(np.random(total_weights),name=\"weight\")\n",
    "        #bias\n",
    "        self.b = tf.Variable(np.random(total_weights),name=\"bias\")\n",
    "        self.pred = tf.add(tf.mul(self.w,self.x),self.b)\n",
    "        #TODO : \n",
    "        None\n",
    "    \n",
    "    def act(self, obs, *args):\n",
    "        None\n",
    "    \n",
    "    def learn(self):\n",
    "        None"
   ]
  },
  {
   "cell_type": "code",
   "execution_count": null,
   "metadata": {
    "collapsed": true
   },
   "outputs": [],
   "source": []
  }
 ],
 "metadata": {
  "kernelspec": {
   "display_name": "Python 2",
   "language": "python",
   "name": "python2"
  },
  "language_info": {
   "codemirror_mode": {
    "name": "ipython",
    "version": 2
   },
   "file_extension": ".py",
   "mimetype": "text/x-python",
   "name": "python",
   "nbconvert_exporter": "python",
   "pygments_lexer": "ipython2",
   "version": "2.7.12"
  }
 },
 "nbformat": 4,
 "nbformat_minor": 1
}
