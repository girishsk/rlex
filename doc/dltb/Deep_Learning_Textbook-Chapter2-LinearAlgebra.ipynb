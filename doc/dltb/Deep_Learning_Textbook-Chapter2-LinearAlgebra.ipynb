{
 "cells": [
  {
   "cell_type": "code",
   "execution_count": 1,
   "metadata": {
    "collapsed": true
   },
   "outputs": [],
   "source": [
    "import tensorflow as tf"
   ]
  },
  {
   "cell_type": "markdown",
   "metadata": {},
   "source": [
    "### Addition of a matrix and a vector and broadcasting \n",
    "\n",
    "$\\boldsymbol{C} = \\boldsymbol{A}+\\boldsymbol{b} $ "
   ]
  },
  {
   "cell_type": "code",
   "execution_count": 9,
   "metadata": {
    "collapsed": false
   },
   "outputs": [
    {
     "name": "stdout",
     "output_type": "stream",
     "text": [
      "[[2 4 6]\n",
      " [4 6 8]]\n",
      "[[2 4 6]\n",
      " [4 6 8]]\n"
     ]
    }
   ],
   "source": [
    "A = tf.constant([[1,2,3],[3,4,5]])\n",
    "b = tf.constant([1,2,3])\n",
    "\n",
    "c = A + tf.transpose(b)\n",
    "e = A + b\n",
    "with tf.Session() as sess:\n",
    "    print sess.run(c)\n",
    "    print sess.run(e)"
   ]
  },
  {
   "cell_type": "markdown",
   "metadata": {},
   "source": [
    "### Matrix multiplication \n",
    "\n",
    "$\\boldsymbol{C} = \\boldsymbol{A}\\boldsymbol{B} $ "
   ]
  },
  {
   "cell_type": "code",
   "execution_count": 26,
   "metadata": {
    "collapsed": false
   },
   "outputs": [
    {
     "name": "stdout",
     "output_type": "stream",
     "text": [
      "Tensor(\"Shape_9:0\", shape=(2,), dtype=int32)\n",
      "Tensor(\"Shape_10:0\", shape=(2,), dtype=int32)\n",
      "[[22 28]\n",
      " [40 52]]\n"
     ]
    }
   ],
   "source": [
    "A = tf.constant([[1,2,3],[3,4,5]])\n",
    "B = tf.constant([[1,2],[3,4],[5,6]])\n",
    "C = tf.matmul(A,B)\n",
    "print tf.shape(A)\n",
    "print tf.shape(B)\n",
    "with tf.Session() as sess:\n",
    "    print sess.run(C)"
   ]
  },
  {
   "cell_type": "markdown",
   "metadata": {},
   "source": [
    "### Hadamard product or element-wise product \n",
    "\n",
    "$\\boldsymbol{C} = \\boldsymbol{A}\\odot\\boldsymbol{B} $ "
   ]
  },
  {
   "cell_type": "code",
   "execution_count": 28,
   "metadata": {
    "collapsed": false
   },
   "outputs": [
    {
     "name": "stdout",
     "output_type": "stream",
     "text": [
      "Tensor(\"Shape_13:0\", shape=(2,), dtype=int32)\n",
      "Tensor(\"Shape_14:0\", shape=(2,), dtype=int32)\n",
      "[[ 1  4  9]\n",
      " [ 9 16 25]]\n"
     ]
    }
   ],
   "source": [
    "A = tf.constant([[1,2,3],[3,4,5]])\n",
    "B = tf.constant([[1,2,3],[3,4,5]])\n",
    "C = tf.mul(A,B)\n",
    "print tf.shape(A)\n",
    "print tf.shape(B)\n",
    "with tf.Session() as sess:\n",
    "    print sess.run(C)"
   ]
  },
  {
   "cell_type": "markdown",
   "metadata": {},
   "source": [
    "### Dot product \n",
    "\n",
    "$\\textit{c} = \\textit{x}^T\\textit{y} $ "
   ]
  },
  {
   "cell_type": "code",
   "execution_count": 34,
   "metadata": {
    "collapsed": false
   },
   "outputs": [
    {
     "name": "stdout",
     "output_type": "stream",
     "text": [
      "14\n"
     ]
    }
   ],
   "source": [
    "x = tf.constant([1,2,3])\n",
    "y = tf.constant([1,2,3])\n",
    "c = tf.reduce_sum(tf.mul(x,y))\n",
    "with tf.Session() as sess:\n",
    "    print sess.run(c)"
   ]
  },
  {
   "cell_type": "markdown",
   "metadata": {},
   "source": [
    "### Transpose of a Matrix product\n",
    "\n",
    "${(\\boldsymbol{A}\\boldsymbol{B})}^T = \\boldsymbol{B}^T \\boldsymbol{A}^T $ "
   ]
  },
  {
   "cell_type": "code",
   "execution_count": 35,
   "metadata": {
    "collapsed": false
   },
   "outputs": [
    {
     "name": "stdout",
     "output_type": "stream",
     "text": [
      "Tensor(\"Shape_15:0\", shape=(2,), dtype=int32)\n",
      "Tensor(\"Shape_16:0\", shape=(2,), dtype=int32)\n",
      "[[22 40]\n",
      " [28 52]]\n",
      "[[22 40]\n",
      " [28 52]]\n"
     ]
    }
   ],
   "source": [
    "A = tf.constant([[1,2,3],[3,4,5]])\n",
    "B = tf.constant([[1,2],[3,4],[5,6]])\n",
    "C = tf.transpose(tf.matmul(A,B))\n",
    "D = tf.matmul(tf.transpose(B),tf.transpose(A))\n",
    "\n",
    "with tf.Session() as sess:\n",
    "    print sess.run(C)\n",
    "    print sess.run(D)"
   ]
  },
  {
   "cell_type": "code",
   "execution_count": 49,
   "metadata": {
    "collapsed": false
   },
   "outputs": [
    {
     "name": "stdout",
     "output_type": "stream",
     "text": [
      "Tensor(\"Shape_30:0\", shape=(2,), dtype=int32)\n",
      "Tensor(\"Shape_31:0\", shape=(1,), dtype=int32)\n",
      "[[-0.07692308  0.        ]\n",
      " [ 0.38461539 -0.        ]]\n"
     ]
    }
   ],
   "source": [
    "#solve for 2x_1+3x_2=1 and 5x_1+1x_2 =0\n",
    "\n",
    "A= tf.constant([[2.0,3.0],[5.0,1.0]])\n",
    "b = tf.constant([1.0,0.0])\n",
    "print tf.shape(tf.matrix_inverse(A))\n",
    "print tf.shape(b)\n",
    "x = tf.mul(tf.matrix_inverse(A),tf.transpose(b))\n",
    "with tf.Session() as sess:\n",
    "    print sess.run(x)"
   ]
  },
  {
   "cell_type": "markdown",
   "metadata": {},
   "source": [
    "## Linear Dependence and Span\n",
    "\n",
    "Matrix vector multiplication as linear combination of scalar and vector.\n",
    "\n",
    "$\\boldsymbol{Ax} = \\sum_i{x_i\\boldsymbol{A}_{:,i}}$"
   ]
  },
  {
   "cell_type": "markdown",
   "metadata": {
    "collapsed": true
   },
   "source": [
    "## 2.5 Norm\n",
    "Norm of a vector is measure of the size of the vector\n",
    "\n",
    "$\\|\\boldsymbol{x}\\|_p = \\left(\\sum_{\\substack i}\\left|x_i\\right|^p\\right)^{\\frac{1}{p}}$\n",
    "\n",
    "$p = 2$ is Euclidean norm\n",
    "\n",
    "$max(\\left|x_i\\right|)$ is max norm"
   ]
  },
  {
   "cell_type": "code",
   "execution_count": 7,
   "metadata": {
    "collapsed": false
   },
   "outputs": [
    {
     "name": "stdout",
     "output_type": "stream",
     "text": [
      "[ 6.]\n",
      "[ 3.7416575]\n",
      "[ 3.30192733]\n",
      "[ 3.14634633]\n",
      "[ 3.07738495]\n",
      "[ 3.04301047]\n",
      "[ 3.02466273]\n",
      "[ 3.0144434]\n",
      "[ 3.00858879]\n"
     ]
    }
   ],
   "source": [
    "import numpy as np\n",
    "x = tf.constant([1,2,-3],dtype=\"float32\")\n",
    "p = tf.placeholder(\"float32\",shape=[1])\n",
    "norm = tf.pow(tf.reduce_sum(tf.pow(tf.abs(x),p)),1/p)\n",
    "with tf.Session() as sess:\n",
    "    for i in xrange(1,10):\n",
    "        print sess.run(norm,feed_dict={p:np.expand_dims(i,1)})"
   ]
  },
  {
   "cell_type": "markdown",
   "metadata": {},
   "source": [
    "$\\textbf{Advantages}$ of squared $L^2$ norm is that the derivatives with repect to individual $x_i$ depends only on it. \n",
    "\n",
    "$\\textbf{Disadvantage}$ is that it moves very slowly near zero. (illustrated below )"
   ]
  },
  {
   "cell_type": "code",
   "execution_count": 17,
   "metadata": {
    "collapsed": false
   },
   "outputs": [],
   "source": [
    "l = np.linspace(-5,5,50)\n",
    "l_pow_2 = np.power(l,2)\n",
    "l_abs = np.abs(l)"
   ]
  },
  {
   "cell_type": "code",
   "execution_count": 9,
   "metadata": {
    "collapsed": false
   },
   "outputs": [],
   "source": [
    "%matplotlib inline\n",
    "import matplotlib.pyplot as plt"
   ]
  },
  {
   "cell_type": "code",
   "execution_count": 13,
   "metadata": {
    "collapsed": false
   },
   "outputs": [],
   "source": [
    "sns.set_style(\"whitegrid\")"
   ]
  },
  {
   "cell_type": "code",
   "execution_count": 18,
   "metadata": {
    "collapsed": false
   },
   "outputs": [
    {
     "data": {
      "text/plain": [
       "[<matplotlib.lines.Line2D at 0x11c6d48d0>]"
      ]
     },
     "execution_count": 18,
     "metadata": {},
     "output_type": "execute_result"
    },
    {
     "data": {
      "image/png": "[encoded data removed]",
      "text/plain": [
       "<matplotlib.figure.Figure at 0x11c6d4090>"
      ]
     },
     "metadata": {},
     "output_type": "display_data"
    }
   ],
   "source": [
    "import seaborn as sns\n",
    "plt.plot(l,l_pow_2)\n",
    "plt.plot(l,l_abs)"
   ]
  },
  {
   "cell_type": "code",
   "execution_count": 15,
   "metadata": {
    "collapsed": true
   },
   "outputs": [],
   "source": [
    "l = np.linspace(-1.5,1.5,50)\n",
    "l_pow_2 = np.power(l,2)\n",
    "l_abs = np.abs(l)"
   ]
  },
  {
   "cell_type": "code",
   "execution_count": 16,
   "metadata": {
    "collapsed": false
   },
   "outputs": [
    {
     "data": {
      "text/plain": [
       "[<matplotlib.lines.Line2D at 0x11c736290>]"
      ]
     },
     "execution_count": 16,
     "metadata": {},
     "output_type": "execute_result"
    },
    {
     "data": {
      "image/png": "[encoded data removed]",
      "text/plain": [
       "<matplotlib.figure.Figure at 0x11c736790>"
      ]
     },
     "metadata": {},
     "output_type": "display_data"
    }
   ],
   "source": [
    "plt.plot(l,l_pow_2)\n",
    "plt.plot(l,l_abs)"
   ]
  },
  {
   "cell_type": "markdown",
   "metadata": {
    "collapsed": true
   },
   "source": [
    "### Forbenius Norm\n",
    "measure of size of a matrix \n",
    "\n",
    "$\\|{\\boldsymbol{A}}\\|_{\\boldsymbol{F}} = \\sqrt{\\sum_{i,j} A_{i,j}^2}$\n"
   ]
  },
  {
   "cell_type": "code",
   "execution_count": 23,
   "metadata": {
    "collapsed": false
   },
   "outputs": [
    {
     "name": "stdout",
     "output_type": "stream",
     "text": [
      "8.0\n"
     ]
    }
   ],
   "source": [
    "A = tf.constant([[1,2,3],[3,4,5]],dtype=\"float32\")\n",
    "\n",
    "forbenius_norm = tf.sqrt(tf.reduce_sum(tf.mul(A,A)))\n",
    "with tf.Session() as sess:\n",
    "    print sess.run(forbenius_norm)"
   ]
  },
  {
   "cell_type": "markdown",
   "metadata": {},
   "source": [
    "### Diagonal Matrix"
   ]
  },
  {
   "cell_type": "code",
   "execution_count": 27,
   "metadata": {
    "collapsed": false
   },
   "outputs": [
    {
     "name": "stdout",
     "output_type": "stream",
     "text": [
      "[[1 0 0 0]\n",
      " [0 2 0 0]\n",
      " [0 0 3 0]\n",
      " [0 0 0 4]]\n"
     ]
    }
   ],
   "source": [
    "with tf.Session() as sess:\n",
    "    print sess.run(tf.diag([1,2,3,4]))"
   ]
  },
  {
   "cell_type": "code",
   "execution_count": 32,
   "metadata": {
    "collapsed": false
   },
   "outputs": [
    {
     "name": "stdout",
     "output_type": "stream",
     "text": [
      "[[ 1.  0.  0.]\n",
      " [ 0.  1.  0.]\n",
      " [ 0.  0.  1.]]\n"
     ]
    }
   ],
   "source": [
    "#identity matrix\n",
    "with tf.Session() as sess:\n",
    "    print sess.run(tf.diag(tf.ones((1,3))[0]))"
   ]
  },
  {
   "cell_type": "code",
   "execution_count": 33,
   "metadata": {
    "collapsed": false
   },
   "outputs": [
    {
     "name": "stdout",
     "output_type": "stream",
     "text": [
      "[[1 0 0 0]\n",
      " [0 2 0 0]\n",
      " [0 0 3 0]\n",
      " [0 0 0 4]]\n"
     ]
    }
   ],
   "source": [
    "with tf.Session() as sess:\n",
    "    print sess.run(tf.matrix_diag([1,2,3,4]))"
   ]
  },
  {
   "cell_type": "code",
   "execution_count": 40,
   "metadata": {
    "collapsed": false
   },
   "outputs": [
    {
     "name": "stdout",
     "output_type": "stream",
     "text": [
      "[[  10.    0.    0.    0.]\n",
      " [   0.   40.    0.    0.]\n",
      " [   0.    0.   90.    0.]\n",
      " [   0.    0.    0.  160.]]\n",
      "[  10.   40.   90.  160.]\n",
      "[[ 1.          0.          0.          0.        ]\n",
      " [ 0.          0.5         0.          0.        ]\n",
      " [ 0.          0.          0.33333334  0.        ]\n",
      " [ 0.          0.          0.          0.25      ]]\n"
     ]
    }
   ],
   "source": [
    "v = tf.constant([1,2,3,4],dtype=\"float32\")\n",
    "diag_A = tf.matrix_diag(tf.constant([1,2,3,4],dtype=\"float32\"))\n",
    "x = tf.constant([10,20,30,40],dtype=\"float32\")\n",
    "out = tf.mul(diag_A,x)\n",
    "with tf.Session() as sess:\n",
    "    print sess.run(out)\n",
    "    print sess.run(tf.mul(v,x))\n",
    "    print sess.run(tf.matrix_inverse(diag_A))"
   ]
  },
  {
   "cell_type": "markdown",
   "metadata": {},
   "source": [
    "### Symmetric matrix\n",
    "\n",
    "$\\boldsymbol{A} =\\boldsymbol{A}^T$"
   ]
  },
  {
   "cell_type": "code",
   "execution_count": 2,
   "metadata": {
    "collapsed": false
   },
   "outputs": [
    {
     "name": "stdout",
     "output_type": "stream",
     "text": [
      "[[ 1.  0.  0.  0.]\n",
      " [ 0.  2.  0.  0.]\n",
      " [ 0.  0.  3.  0.]\n",
      " [ 0.  0.  0.  4.]]\n",
      "[[ 1.  0.  0.  0.]\n",
      " [ 0.  2.  0.  0.]\n",
      " [ 0.  0.  3.  0.]\n",
      " [ 0.  0.  0.  4.]]\n"
     ]
    }
   ],
   "source": [
    "diag_A = tf.matrix_diag(tf.constant([1,2,3,4],dtype=\"float32\"))\n",
    "with tf.Session() as sess:\n",
    "    print sess.run(diag_A)\n",
    "    print sess.run(tf.transpose(diag_A))"
   ]
  },
  {
   "cell_type": "markdown",
   "metadata": {},
   "source": [
    "### Unit vector (Vector with unit norm)\n",
    "\n",
    "$\\|\\boldsymbol{x}\\|_2 = 1$\n",
    "\n",
    "### Orthogonal vectors\n",
    "\n",
    "$\\boldsymbol{x}^T \\boldsymbol{y} = 0$\n",
    "\n",
    "### Orthonormal vectors\n",
    "$\\|\\boldsymbol{x}\\|_2 = 1,$\n",
    "$\\|\\boldsymbol{y}\\|_2 = 1,$\n",
    "$\\boldsymbol{x}^T \\boldsymbol{y} = 0$\n",
    "\n",
    "\n",
    "### Orthogonal matrix \n",
    "\n",
    "$\\boldsymbol{A}^T\\boldsymbol{A} =\\boldsymbol{A}\\boldsymbol{A}^T = \\boldsymbol{I}$\n",
    "\n",
    "Orthogonal matrix has an advantage, calculating its inverse is just taking a transpose of it which is cheap to compute.\n",
    "\n",
    "$\\boldsymbol{A}^T = \\boldsymbol{A}^{-1}$"
   ]
  },
  {
   "cell_type": "code",
   "execution_count": null,
   "metadata": {
    "collapsed": true
   },
   "outputs": [],
   "source": []
  }
 ],
 "metadata": {
  "anaconda-cloud": {},
  "kernelspec": {
   "display_name": "Python [default]",
   "language": "python",
   "name": "python2"
  },
  "language_info": {
   "codemirror_mode": {
    "name": "ipython",
    "version": 2
   },
   "file_extension": ".py",
   "mimetype": "text/x-python",
   "name": "python",
   "nbconvert_exporter": "python",
   "pygments_lexer": "ipython2",
   "version": "2.7.12"
  }
 },
 "nbformat": 4,
 "nbformat_minor": 1
}
