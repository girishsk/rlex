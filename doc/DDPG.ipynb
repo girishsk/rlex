{
 "cells": [
  {
   "cell_type": "markdown",
   "metadata": {},
   "source": [
    "*****\n",
    "### Deep Deterministic Policy Gradient Algorithm\n",
    "\n",
    "******\n",
    "\n",
    "Randomly initialize critic network $Q(s,a|\\theta^Q)$ and actor $\\mu(s|\\theta^\\mu)$ with weights $\\theta^Q $ and $\\theta^\\mu$\n",
    "\n",
    "Initialize target network $Q^{'}$ and $\\mu^{'}$ with weights $ \\theta^{Q^{'}} \\gets \\theta^Q $, $ \\theta^{\\mu^{'}} \\gets \\theta^\\mu $\n",
    "\n",
    "Initialize replay buffer $R$\n",
    "\n",
    "**for** $episode = 1,M$ **do**\n",
    "\n",
    "&nbsp;&nbsp; Initialize a random process $\\mathcal{N}$ for action exploration\n",
    "\n",
    "&nbsp;&nbsp; Recieve initial observation state $s_t$\n",
    "\n",
    "&nbsp;&nbsp; **for** $t = 1,T$ **do**\n",
    "\n",
    "&nbsp;&nbsp;&nbsp;&nbsp; Select action $a_t = \\mu(s_t|\\theta^\\mu) + \\mathcal{N} $ according to current policy and exploration noise\n",
    "\n",
    "&nbsp;&nbsp;&nbsp;&nbsp; Execute action $a_t$ and observe reward $r_t$ and observe new state $s_{t+1}$\n",
    "\n",
    "&nbsp;&nbsp;&nbsp;&nbsp; Store transitions $( s_t, a_t,r_t,s_{t+1})$ in $R$\n",
    "\n",
    "&nbsp;&nbsp;&nbsp;&nbsp; Sample random minibatch of $N$ transistions $(s_t,a_t,r_t,s_{t+1})$ from $R$\n",
    "\n",
    "&nbsp;&nbsp;&nbsp;&nbsp; \n",
    "\n",
    "****\n"
   ]
  },
  {
   "cell_type": "code",
   "execution_count": null,
   "metadata": {
    "collapsed": true
   },
   "outputs": [],
   "source": []
  }
 ],
 "metadata": {
  "kernelspec": {
   "display_name": "Python 2",
   "language": "python",
   "name": "python2"
  },
  "language_info": {
   "codemirror_mode": {
    "name": "ipython",
    "version": 2
   },
   "file_extension": ".py",
   "mimetype": "text/x-python",
   "name": "python",
   "nbconvert_exporter": "python",
   "pygments_lexer": "ipython2",
   "version": "2.7.11"
  }
 },
 "nbformat": 4,
 "nbformat_minor": 0
}
